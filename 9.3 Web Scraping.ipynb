{
 "cells": [
  {
   "cell_type": "code",
   "execution_count": 1,
   "metadata": {},
   "outputs": [
    {
     "name": "stdout",
     "output_type": "stream",
     "text": [
      "Requirement already satisfied: bs4 in /home/jupyterlab/conda/envs/python/lib/python3.6/site-packages (0.0.1)\n",
      "Requirement already satisfied: beautifulsoup4 in /home/jupyterlab/conda/envs/python/lib/python3.6/site-packages (from bs4) (4.8.1)\n",
      "Requirement already satisfied: soupsieve>=1.2 in /home/jupyterlab/conda/envs/python/lib/python3.6/site-packages (from beautifulsoup4->bs4) (1.9.5)\n",
      "Note: you may need to restart the kernel to use updated packages.\n"
     ]
    }
   ],
   "source": [
    "pip install bs4"
   ]
  },
  {
   "cell_type": "code",
   "execution_count": 2,
   "metadata": {},
   "outputs": [
    {
     "data": {
      "text/plain": [
       "(287, 3)"
      ]
     },
     "execution_count": 2,
     "metadata": {},
     "output_type": "execute_result"
    }
   ],
   "source": [
    "from bs4 import BeautifulSoup\n",
    "import requests\n",
    "import pandas as pd\n",
    "\n",
    "# modify html to text and read\n",
    "source = requests.get('https://en.wikipedia.org/wiki/List_of_postal_codes_of_Canada:_M').text\n",
    "soup = BeautifulSoup(source)\n",
    "post_table = soup.find(\"table\", {\"class\": \"wikitable\"})\n",
    "\n",
    "headers = {0: 'Postcode', 1: 'Borough', 2: 'Neighbourhood'}\n",
    "\n",
    "rows = post_table.find_all('tr')\n",
    "\n",
    "table_data = []\n",
    "\n",
    "#first row include head of table, create our table\n",
    "for count in range(1,len(rows)):\n",
    "    cells = rows[count].find_all(\"td\")\n",
    "    item = {}\n",
    "    for index in headers:\n",
    "        item[headers[index]] = cells[index].text\n",
    "    table_data.append(item)   \n",
    "\n",
    "#table - to dataframe\n",
    "df = pd.DataFrame(table_data)\n",
    "df.head()\n",
    "df.shape"
   ]
  },
  {
   "cell_type": "code",
   "execution_count": 3,
   "metadata": {},
   "outputs": [
    {
     "data": {
      "text/plain": [
       "(103, 3)"
      ]
     },
     "execution_count": 3,
     "metadata": {},
     "output_type": "execute_result"
    }
   ],
   "source": [
    "# delete rows where Borough  = 'Not assigned'\n",
    "df = df.loc[df['Borough'] != 'Not assigned']\n",
    "\n",
    "# delete symbols \\n in Neighbourhood column\n",
    "df['Neighbourhood'] = df['Neighbourhood'].str.replace('\\n','')\n",
    "\n",
    "# grouped all rows and aggregate Neighbourhood separated by ','\n",
    "df = df.groupby(['Postcode','Borough'])['Neighbourhood'].agg(', '.join).reset_index()\n",
    "\n",
    "# replace 'Not assigned' in Neighbourhood on Borough\n",
    "for index, row in df.iterrows():\n",
    "    if row['Neighbourhood'] == 'Not assigned':\n",
    "        row['Neighbourhood'] = row['Borough']      \n",
    "df.shape"
   ]
  },
  {
   "cell_type": "code",
   "execution_count": null,
   "metadata": {},
   "outputs": [],
   "source": []
  },
  {
   "cell_type": "code",
   "execution_count": null,
   "metadata": {},
   "outputs": [],
   "source": []
  }
 ],
 "metadata": {
  "kernelspec": {
   "display_name": "Python",
   "language": "python",
   "name": "conda-env-python-py"
  },
  "language_info": {
   "codemirror_mode": {
    "name": "ipython",
    "version": 3
   },
   "file_extension": ".py",
   "mimetype": "text/x-python",
   "name": "python",
   "nbconvert_exporter": "python",
   "pygments_lexer": "ipython3",
   "version": "3.6.7"
  }
 },
 "nbformat": 4,
 "nbformat_minor": 4
}
